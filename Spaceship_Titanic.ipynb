{
  "nbformat": 4,
  "nbformat_minor": 0,
  "metadata": {
    "colab": {
      "provenance": [],
      "toc_visible": true
    },
    "kernelspec": {
      "name": "python3",
      "display_name": "Python 3"
    },
    "language_info": {
      "name": "python"
    }
  },
  "cells": [
    {
      "cell_type": "code",
      "source": [
        "pip install scikit-plot"
      ],
      "metadata": {
        "colab": {
          "base_uri": "https://localhost:8080/"
        },
        "id": "BnTUIiq6Q8UQ",
        "outputId": "49b38fc1-17b1-433c-f3b6-fa2b854a174a"
      },
      "execution_count": 168,
      "outputs": [
        {
          "output_type": "stream",
          "name": "stdout",
          "text": [
            "Looking in indexes: https://pypi.org/simple, https://us-python.pkg.dev/colab-wheels/public/simple/\n",
            "Requirement already satisfied: scikit-plot in /usr/local/lib/python3.8/dist-packages (0.3.7)\n",
            "Requirement already satisfied: matplotlib>=1.4.0 in /usr/local/lib/python3.8/dist-packages (from scikit-plot) (3.2.2)\n",
            "Requirement already satisfied: joblib>=0.10 in /usr/local/lib/python3.8/dist-packages (from scikit-plot) (1.2.0)\n",
            "Requirement already satisfied: scikit-learn>=0.18 in /usr/local/lib/python3.8/dist-packages (from scikit-plot) (1.0.2)\n",
            "Requirement already satisfied: scipy>=0.9 in /usr/local/lib/python3.8/dist-packages (from scikit-plot) (1.7.3)\n",
            "Requirement already satisfied: numpy>=1.11 in /usr/local/lib/python3.8/dist-packages (from matplotlib>=1.4.0->scikit-plot) (1.21.6)\n",
            "Requirement already satisfied: pyparsing!=2.0.4,!=2.1.2,!=2.1.6,>=2.0.1 in /usr/local/lib/python3.8/dist-packages (from matplotlib>=1.4.0->scikit-plot) (3.0.9)\n",
            "Requirement already satisfied: kiwisolver>=1.0.1 in /usr/local/lib/python3.8/dist-packages (from matplotlib>=1.4.0->scikit-plot) (1.4.4)\n",
            "Requirement already satisfied: cycler>=0.10 in /usr/local/lib/python3.8/dist-packages (from matplotlib>=1.4.0->scikit-plot) (0.11.0)\n",
            "Requirement already satisfied: python-dateutil>=2.1 in /usr/local/lib/python3.8/dist-packages (from matplotlib>=1.4.0->scikit-plot) (2.8.2)\n",
            "Requirement already satisfied: six>=1.5 in /usr/local/lib/python3.8/dist-packages (from python-dateutil>=2.1->matplotlib>=1.4.0->scikit-plot) (1.15.0)\n",
            "Requirement already satisfied: threadpoolctl>=2.0.0 in /usr/local/lib/python3.8/dist-packages (from scikit-learn>=0.18->scikit-plot) (3.1.0)\n"
          ]
        }
      ]
    },
    {
      "cell_type": "code",
      "source": [
        "#from google.colab import drive\n",
        "#drive.mount('/content/drive')"
      ],
      "metadata": {
        "id": "Jq0V1SRwju7Q"
      },
      "execution_count": 169,
      "outputs": []
    },
    {
      "cell_type": "code",
      "execution_count": 170,
      "metadata": {
        "id": "PbzB0ZJ0Lp14"
      },
      "outputs": [],
      "source": [
        "# Importing the necessaries modules\n",
        "\n",
        "import pandas as pd\n",
        "import numpy as np\n",
        "import sklearn as sk\n",
        "import statsmodels as sm\n",
        "import xgboost as xg\n",
        "from sklearn.model_selection import *\n",
        "from sklearn import *\n",
        "from xgboost import *\n",
        "from sklearn.metrics import *\n",
        "import scikitplot as skplt\n",
        "import matplotlib.pyplot as plt\n",
        "from sklearn.metrics import accuracy_score\n",
        "from sklearn.model_selection import train_test_split"
      ]
    },
    {
      "cell_type": "markdown",
      "source": [
        "# Import Data"
      ],
      "metadata": {
        "id": "uKu-GOP_b5DW"
      }
    },
    {
      "cell_type": "code",
      "source": [
        "train = pd.read_csv(\"train.csv\")\n",
        "test = pd.read_csv(\"test.csv\")\n",
        "test_result = pd.read_csv(\"sample_submission.csv\")\n",
        "train.head()"
      ],
      "metadata": {
        "id": "IhYnhRqfM08u",
        "colab": {
          "base_uri": "https://localhost:8080/",
          "height": 357
        },
        "outputId": "824acbc7-7a9c-4868-ace5-dc3664e2ae44"
      },
      "execution_count": 171,
      "outputs": [
        {
          "output_type": "execute_result",
          "data": {
            "text/plain": [
              "  PassengerId HomePlanet CryoSleep  Cabin  Destination   Age    VIP  \\\n",
              "0     0001_01     Europa     False  B/0/P  TRAPPIST-1e  39.0  False   \n",
              "1     0002_01      Earth     False  F/0/S  TRAPPIST-1e  24.0  False   \n",
              "2     0003_01     Europa     False  A/0/S  TRAPPIST-1e  58.0   True   \n",
              "3     0003_02     Europa     False  A/0/S  TRAPPIST-1e  33.0  False   \n",
              "4     0004_01      Earth     False  F/1/S  TRAPPIST-1e  16.0  False   \n",
              "\n",
              "   RoomService  FoodCourt  ShoppingMall     Spa  VRDeck               Name  \\\n",
              "0          0.0        0.0           0.0     0.0     0.0    Maham Ofracculy   \n",
              "1        109.0        9.0          25.0   549.0    44.0       Juanna Vines   \n",
              "2         43.0     3576.0           0.0  6715.0    49.0      Altark Susent   \n",
              "3          0.0     1283.0         371.0  3329.0   193.0       Solam Susent   \n",
              "4        303.0       70.0         151.0   565.0     2.0  Willy Santantines   \n",
              "\n",
              "   Transported  \n",
              "0        False  \n",
              "1         True  \n",
              "2        False  \n",
              "3        False  \n",
              "4         True  "
            ],
            "text/html": [
              "\n",
              "  <div id=\"df-305671c9-67ce-48b1-aaa4-694198a3e0e4\">\n",
              "    <div class=\"colab-df-container\">\n",
              "      <div>\n",
              "<style scoped>\n",
              "    .dataframe tbody tr th:only-of-type {\n",
              "        vertical-align: middle;\n",
              "    }\n",
              "\n",
              "    .dataframe tbody tr th {\n",
              "        vertical-align: top;\n",
              "    }\n",
              "\n",
              "    .dataframe thead th {\n",
              "        text-align: right;\n",
              "    }\n",
              "</style>\n",
              "<table border=\"1\" class=\"dataframe\">\n",
              "  <thead>\n",
              "    <tr style=\"text-align: right;\">\n",
              "      <th></th>\n",
              "      <th>PassengerId</th>\n",
              "      <th>HomePlanet</th>\n",
              "      <th>CryoSleep</th>\n",
              "      <th>Cabin</th>\n",
              "      <th>Destination</th>\n",
              "      <th>Age</th>\n",
              "      <th>VIP</th>\n",
              "      <th>RoomService</th>\n",
              "      <th>FoodCourt</th>\n",
              "      <th>ShoppingMall</th>\n",
              "      <th>Spa</th>\n",
              "      <th>VRDeck</th>\n",
              "      <th>Name</th>\n",
              "      <th>Transported</th>\n",
              "    </tr>\n",
              "  </thead>\n",
              "  <tbody>\n",
              "    <tr>\n",
              "      <th>0</th>\n",
              "      <td>0001_01</td>\n",
              "      <td>Europa</td>\n",
              "      <td>False</td>\n",
              "      <td>B/0/P</td>\n",
              "      <td>TRAPPIST-1e</td>\n",
              "      <td>39.0</td>\n",
              "      <td>False</td>\n",
              "      <td>0.0</td>\n",
              "      <td>0.0</td>\n",
              "      <td>0.0</td>\n",
              "      <td>0.0</td>\n",
              "      <td>0.0</td>\n",
              "      <td>Maham Ofracculy</td>\n",
              "      <td>False</td>\n",
              "    </tr>\n",
              "    <tr>\n",
              "      <th>1</th>\n",
              "      <td>0002_01</td>\n",
              "      <td>Earth</td>\n",
              "      <td>False</td>\n",
              "      <td>F/0/S</td>\n",
              "      <td>TRAPPIST-1e</td>\n",
              "      <td>24.0</td>\n",
              "      <td>False</td>\n",
              "      <td>109.0</td>\n",
              "      <td>9.0</td>\n",
              "      <td>25.0</td>\n",
              "      <td>549.0</td>\n",
              "      <td>44.0</td>\n",
              "      <td>Juanna Vines</td>\n",
              "      <td>True</td>\n",
              "    </tr>\n",
              "    <tr>\n",
              "      <th>2</th>\n",
              "      <td>0003_01</td>\n",
              "      <td>Europa</td>\n",
              "      <td>False</td>\n",
              "      <td>A/0/S</td>\n",
              "      <td>TRAPPIST-1e</td>\n",
              "      <td>58.0</td>\n",
              "      <td>True</td>\n",
              "      <td>43.0</td>\n",
              "      <td>3576.0</td>\n",
              "      <td>0.0</td>\n",
              "      <td>6715.0</td>\n",
              "      <td>49.0</td>\n",
              "      <td>Altark Susent</td>\n",
              "      <td>False</td>\n",
              "    </tr>\n",
              "    <tr>\n",
              "      <th>3</th>\n",
              "      <td>0003_02</td>\n",
              "      <td>Europa</td>\n",
              "      <td>False</td>\n",
              "      <td>A/0/S</td>\n",
              "      <td>TRAPPIST-1e</td>\n",
              "      <td>33.0</td>\n",
              "      <td>False</td>\n",
              "      <td>0.0</td>\n",
              "      <td>1283.0</td>\n",
              "      <td>371.0</td>\n",
              "      <td>3329.0</td>\n",
              "      <td>193.0</td>\n",
              "      <td>Solam Susent</td>\n",
              "      <td>False</td>\n",
              "    </tr>\n",
              "    <tr>\n",
              "      <th>4</th>\n",
              "      <td>0004_01</td>\n",
              "      <td>Earth</td>\n",
              "      <td>False</td>\n",
              "      <td>F/1/S</td>\n",
              "      <td>TRAPPIST-1e</td>\n",
              "      <td>16.0</td>\n",
              "      <td>False</td>\n",
              "      <td>303.0</td>\n",
              "      <td>70.0</td>\n",
              "      <td>151.0</td>\n",
              "      <td>565.0</td>\n",
              "      <td>2.0</td>\n",
              "      <td>Willy Santantines</td>\n",
              "      <td>True</td>\n",
              "    </tr>\n",
              "  </tbody>\n",
              "</table>\n",
              "</div>\n",
              "      <button class=\"colab-df-convert\" onclick=\"convertToInteractive('df-305671c9-67ce-48b1-aaa4-694198a3e0e4')\"\n",
              "              title=\"Convert this dataframe to an interactive table.\"\n",
              "              style=\"display:none;\">\n",
              "        \n",
              "  <svg xmlns=\"http://www.w3.org/2000/svg\" height=\"24px\"viewBox=\"0 0 24 24\"\n",
              "       width=\"24px\">\n",
              "    <path d=\"M0 0h24v24H0V0z\" fill=\"none\"/>\n",
              "    <path d=\"M18.56 5.44l.94 2.06.94-2.06 2.06-.94-2.06-.94-.94-2.06-.94 2.06-2.06.94zm-11 1L8.5 8.5l.94-2.06 2.06-.94-2.06-.94L8.5 2.5l-.94 2.06-2.06.94zm10 10l.94 2.06.94-2.06 2.06-.94-2.06-.94-.94-2.06-.94 2.06-2.06.94z\"/><path d=\"M17.41 7.96l-1.37-1.37c-.4-.4-.92-.59-1.43-.59-.52 0-1.04.2-1.43.59L10.3 9.45l-7.72 7.72c-.78.78-.78 2.05 0 2.83L4 21.41c.39.39.9.59 1.41.59.51 0 1.02-.2 1.41-.59l7.78-7.78 2.81-2.81c.8-.78.8-2.07 0-2.86zM5.41 20L4 18.59l7.72-7.72 1.47 1.35L5.41 20z\"/>\n",
              "  </svg>\n",
              "      </button>\n",
              "      \n",
              "  <style>\n",
              "    .colab-df-container {\n",
              "      display:flex;\n",
              "      flex-wrap:wrap;\n",
              "      gap: 12px;\n",
              "    }\n",
              "\n",
              "    .colab-df-convert {\n",
              "      background-color: #E8F0FE;\n",
              "      border: none;\n",
              "      border-radius: 50%;\n",
              "      cursor: pointer;\n",
              "      display: none;\n",
              "      fill: #1967D2;\n",
              "      height: 32px;\n",
              "      padding: 0 0 0 0;\n",
              "      width: 32px;\n",
              "    }\n",
              "\n",
              "    .colab-df-convert:hover {\n",
              "      background-color: #E2EBFA;\n",
              "      box-shadow: 0px 1px 2px rgba(60, 64, 67, 0.3), 0px 1px 3px 1px rgba(60, 64, 67, 0.15);\n",
              "      fill: #174EA6;\n",
              "    }\n",
              "\n",
              "    [theme=dark] .colab-df-convert {\n",
              "      background-color: #3B4455;\n",
              "      fill: #D2E3FC;\n",
              "    }\n",
              "\n",
              "    [theme=dark] .colab-df-convert:hover {\n",
              "      background-color: #434B5C;\n",
              "      box-shadow: 0px 1px 3px 1px rgba(0, 0, 0, 0.15);\n",
              "      filter: drop-shadow(0px 1px 2px rgba(0, 0, 0, 0.3));\n",
              "      fill: #FFFFFF;\n",
              "    }\n",
              "  </style>\n",
              "\n",
              "      <script>\n",
              "        const buttonEl =\n",
              "          document.querySelector('#df-305671c9-67ce-48b1-aaa4-694198a3e0e4 button.colab-df-convert');\n",
              "        buttonEl.style.display =\n",
              "          google.colab.kernel.accessAllowed ? 'block' : 'none';\n",
              "\n",
              "        async function convertToInteractive(key) {\n",
              "          const element = document.querySelector('#df-305671c9-67ce-48b1-aaa4-694198a3e0e4');\n",
              "          const dataTable =\n",
              "            await google.colab.kernel.invokeFunction('convertToInteractive',\n",
              "                                                     [key], {});\n",
              "          if (!dataTable) return;\n",
              "\n",
              "          const docLinkHtml = 'Like what you see? Visit the ' +\n",
              "            '<a target=\"_blank\" href=https://colab.research.google.com/notebooks/data_table.ipynb>data table notebook</a>'\n",
              "            + ' to learn more about interactive tables.';\n",
              "          element.innerHTML = '';\n",
              "          dataTable['output_type'] = 'display_data';\n",
              "          await google.colab.output.renderOutput(dataTable, element);\n",
              "          const docLink = document.createElement('div');\n",
              "          docLink.innerHTML = docLinkHtml;\n",
              "          element.appendChild(docLink);\n",
              "        }\n",
              "      </script>\n",
              "    </div>\n",
              "  </div>\n",
              "  "
            ]
          },
          "metadata": {},
          "execution_count": 171
        }
      ]
    },
    {
      "cell_type": "markdown",
      "source": [
        "# Categorical Variables"
      ],
      "metadata": {
        "id": "Wc1CE0bacARM"
      }
    },
    {
      "cell_type": "code",
      "source": [
        "test = test.merge(test_result, on = 'PassengerId')\n",
        "test.drop(columns ='PassengerId', inplace = True)"
      ],
      "metadata": {
        "id": "jAF4yJ3AjfCl"
      },
      "execution_count": 172,
      "outputs": []
    },
    {
      "cell_type": "code",
      "source": [
        "train.drop(columns = ['PassengerId', 'Name', 'Cabin'], inplace=True)\n",
        "test.drop(columns = [ 'Name', 'Cabin'], inplace=True)\n",
        "dummies_col = ['HomePlanet', 'Destination']\n",
        "booleans = ['CryoSleep', 'VIP', 'Transported']"
      ],
      "metadata": {
        "id": "M3hPi9ZWcErN"
      },
      "execution_count": 173,
      "outputs": []
    },
    {
      "cell_type": "code",
      "source": [
        "def get_categorical(data):\n",
        "    for b in booleans:\n",
        "        data[b].replace([True, False], [1,0], inplace=True)\n",
        "\n",
        "    for d in dummies_col:\n",
        "        dummies = pd.get_dummies(data[d], prefix=d, prefix_sep='_', drop_first=True)\n",
        "        data = pd.concat([data, dummies], axis='columns')\n",
        "\n",
        "    data = data.drop(dummies_col, axis='columns')\n",
        "    return data\n",
        "\n",
        "test = pd.DataFrame(get_categorical(test))\n",
        "train = pd.DataFrame(get_categorical(train))"
      ],
      "metadata": {
        "id": "LmuBciEQdPzb"
      },
      "execution_count": 174,
      "outputs": []
    },
    {
      "cell_type": "markdown",
      "source": [
        "# Cleaning nan data"
      ],
      "metadata": {
        "id": "mBok_l_Mlptt"
      }
    },
    {
      "cell_type": "code",
      "source": [
        "for col in train.columns:\n",
        "    print(col,' ', sum(train[col].isna()))"
      ],
      "metadata": {
        "colab": {
          "base_uri": "https://localhost:8080/"
        },
        "id": "ft4WVkzPldMo",
        "outputId": "d3c57c47-70f9-434e-8b23-eb3fdfd927f3"
      },
      "execution_count": 175,
      "outputs": [
        {
          "output_type": "stream",
          "name": "stdout",
          "text": [
            "CryoSleep   217\n",
            "Age   179\n",
            "VIP   203\n",
            "RoomService   181\n",
            "FoodCourt   183\n",
            "ShoppingMall   208\n",
            "Spa   183\n",
            "VRDeck   188\n",
            "Transported   0\n",
            "HomePlanet_Europa   0\n",
            "HomePlanet_Mars   0\n",
            "Destination_PSO J318.5-22   0\n",
            "Destination_TRAPPIST-1e   0\n"
          ]
        }
      ]
    },
    {
      "cell_type": "code",
      "source": [
        "for col in train.columns:\n",
        "    train = train[~train[col].isna()]\n",
        "train.info()"
      ],
      "metadata": {
        "id": "NQySSeMnm45i",
        "colab": {
          "base_uri": "https://localhost:8080/"
        },
        "outputId": "2755ee8f-4e21-4917-cb06-d87d59d5dea4"
      },
      "execution_count": 176,
      "outputs": [
        {
          "output_type": "stream",
          "name": "stdout",
          "text": [
            "<class 'pandas.core.frame.DataFrame'>\n",
            "Int64Index: 7251 entries, 0 to 8692\n",
            "Data columns (total 13 columns):\n",
            " #   Column                     Non-Null Count  Dtype  \n",
            "---  ------                     --------------  -----  \n",
            " 0   CryoSleep                  7251 non-null   float64\n",
            " 1   Age                        7251 non-null   float64\n",
            " 2   VIP                        7251 non-null   float64\n",
            " 3   RoomService                7251 non-null   float64\n",
            " 4   FoodCourt                  7251 non-null   float64\n",
            " 5   ShoppingMall               7251 non-null   float64\n",
            " 6   Spa                        7251 non-null   float64\n",
            " 7   VRDeck                     7251 non-null   float64\n",
            " 8   Transported                7251 non-null   int64  \n",
            " 9   HomePlanet_Europa          7251 non-null   uint8  \n",
            " 10  HomePlanet_Mars            7251 non-null   uint8  \n",
            " 11  Destination_PSO J318.5-22  7251 non-null   uint8  \n",
            " 12  Destination_TRAPPIST-1e    7251 non-null   uint8  \n",
            "dtypes: float64(8), int64(1), uint8(4)\n",
            "memory usage: 594.8 KB\n"
          ]
        }
      ]
    },
    {
      "cell_type": "code",
      "source": [
        "for col in test.columns:\n",
        "    test = test[~test[col].isna()]\n",
        "test.info()"
      ],
      "metadata": {
        "id": "fKyzsJ3KTDj1"
      },
      "execution_count": null,
      "outputs": []
    },
    {
      "cell_type": "markdown",
      "source": [
        "# Iniciating instances"
      ],
      "metadata": {
        "id": "erVMPzat-JQY"
      }
    },
    {
      "cell_type": "code",
      "source": [
        "yTrain = pd.DataFrame(train['Transported']).copy()\n",
        "xTrain = train.drop(columns = ['Transported'], axis =1,).copy()\n",
        "xTrain, xTest, yTrain, yTest = train_test_split(xTrain, yTrain, test_size=0.3, random_state=2)\n",
        "\n",
        "#yTrain = pd.DataFrame(train['Transported'])\n",
        "#xTrain = train.drop(columns = ['Transported'], axis =1,)\n",
        "\n",
        "#yTest = pd.DataFrame(test['Transported'])\n",
        "#xTest = test.drop(columns = ['Transported'], axis =1,)\n"
      ],
      "metadata": {
        "id": "0_3wPtuFAsRm"
      },
      "execution_count": 178,
      "outputs": []
    },
    {
      "cell_type": "code",
      "source": [
        "xgb = XGBClassifier()\n",
        "logreg = linear_model.LogisticRegressionCV(solver='lbfgs')\n",
        "knn = neighbors.KNeighborsClassifier(5)\n",
        "svcl = svm.SVC()\n",
        "adb = ensemble.AdaBoostClassifier()\n",
        "dtclf = tree.DecisionTreeClassifier(max_depth=5)\n",
        "rfclf = ensemble.RandomForestClassifier()\n",
        "\n",
        "# prepare configuration for cross validation test harness\n",
        "seed = 42\n",
        "# prepare models\n",
        "models = []\n",
        "models.append(('LR', linear_model.LogisticRegressionCV(solver='lbfgs', max_iter=10000, cv=10)))\n",
        "models.append(('XGB', XGBClassifier()))\n",
        "models.append(('KNN', neighbors.KNeighborsClassifier()))\n",
        "models.append(('DT', tree.DecisionTreeClassifier()))\n",
        "models.append(('ADB', ensemble.AdaBoostClassifier()))\n",
        "models.append(('RF', ensemble.RandomForestClassifier()))\n",
        "models.append(('SVC', svm.SVC()))\n",
        "\n",
        "# evaluate each model in turn\n",
        "results = []\n",
        "names = []\n",
        "scoring = 'accuracy'\n",
        "for name, model in models:\n",
        "  cv_results = model_selection.cross_val_score(model, xTrain, yTrain, scoring=scoring)\n",
        "  results.append(cv_results)\n",
        "  names.append(name)\n",
        "  accuracy = \"%s: %.2f%% (%.2f)\" % (name, cv_results.mean(), cv_results.std())\n",
        "  print(accuracy)\n"
      ],
      "metadata": {
        "id": "Y5uaOnQ2nV-S"
      },
      "execution_count": null,
      "outputs": []
    },
    {
      "cell_type": "markdown",
      "source": [
        "# Evaluate models"
      ],
      "metadata": {
        "id": "Xdp8IrQPESGP"
      }
    },
    {
      "cell_type": "markdown",
      "source": [
        "## XGBoost Model With Learning Curves"
      ],
      "metadata": {
        "id": "PyfKXFAWG-_C"
      }
    },
    {
      "cell_type": "code",
      "source": [
        "yTest.info()"
      ],
      "metadata": {
        "id": "dou5Y5IcHtjU"
      },
      "execution_count": null,
      "outputs": []
    },
    {
      "cell_type": "code",
      "source": [
        "model = XGBClassifier()\n",
        "eval_set = [(xTrain, yTrain), (xTest, yTest)]\n",
        "model.fit(xTrain, yTrain, eval_metric=[\"error\", \"logloss\"],\n",
        "early_stopping_rounds=100,eval_set=eval_set, verbose=True)\n",
        "# make predictions for test data\n",
        "yPred = model.predict(xTest)\n",
        "predictions = [round(value) for value in yPred]\n",
        "# evaluate predictions\n",
        "accuracy = accuracy_score(list(np.ravel(yTest)), predictions)\n",
        "print(\"Accuracy: %.2f%%\" % (accuracy * 100.0))"
      ],
      "metadata": {
        "id": "vz7hQcAXGhfX"
      },
      "execution_count": null,
      "outputs": []
    },
    {
      "cell_type": "markdown",
      "source": [
        "## Log loss plot"
      ],
      "metadata": {
        "id": "HL1pBArAJ_04"
      }
    },
    {
      "cell_type": "code",
      "source": [
        "results = model.evals_result()\n",
        "epochs = len(results['validation_0']['error'])\n",
        "x_axis = range(0, epochs)\n",
        "# plot log loss\n",
        "fig, ax = plt.subplots()\n",
        "ax.plot(x_axis, results['validation_0']['logloss'], label='Train')\n",
        "ax.plot(x_axis, results['validation_1']['logloss'], label='Test')\n",
        "ax.legend()\n",
        "plt.ylabel('Log Loss')\n",
        "plt.title('XGBoost Log Loss')\n",
        "plt.show()"
      ],
      "metadata": {
        "colab": {
          "base_uri": "https://localhost:8080/",
          "height": 390
        },
        "id": "zdZda8bdJ9zj",
        "outputId": "4a2c0cc1-5f73-4163-8df3-c00512ac300e"
      },
      "execution_count": 180,
      "outputs": [
        {
          "output_type": "display_data",
          "data": {
            "text/plain": [
              "<Figure size 720x432 with 1 Axes>"
            ],
            "image/png": "[encoded data removed]"
          },
          "metadata": {
            "needs_background": "light"
          }
        }
      ]
    },
    {
      "cell_type": "markdown",
      "source": [
        "## Grid Search"
      ],
      "metadata": {
        "id": "jf1lPpk1Kznr"
      }
    },
    {
      "cell_type": "markdown",
      "source": [],
      "metadata": {
        "id": "SSv7myGkKzfG"
      }
    },
    {
      "cell_type": "code",
      "source": [
        "parameters = {'nthread':[4], 'objective':['binary:logistic'], 'learning_rate': [0.1, 0.03, 0.05, 0.07], 'max_depth': [3, 5, 6],'min_child_weight': [4],'silent': [1],'subsample': [0.7],'colsample_bytree': [0.7],'n_estimators': [100, 200, 300, 500]}\n",
        "clfGrid = GridSearchCV(model, parameters, n_jobs = 5,verbose=True)\n",
        "clfGrid.fit(xTrain,yTrain)\n",
        "print(clfGrid.best_score_)\n",
        "print(clfGrid.best_params_)"
      ],
      "metadata": {
        "id": "pn_r2JRHJ9tV"
      },
      "execution_count": null,
      "outputs": []
    },
    {
      "cell_type": "code",
      "source": [
        "#weights = (y == 0).sum() / (1.0 * (y == 1).sum())\n",
        "#est Model\n",
        "#xgbFinalModel = XGBClassifier(max_depth = 5,learning_rate= 0.05, min_child_weight= 4, n_estimators= 200, nthread= 4, subsample=0.7, colsample_bytree=0.7, objective= \"binary:logistic\")\n",
        "xgbFinalModel = XGBClassifier(max_depth = 3,learning_rate= 0.1, min_child_weight= 3, n_estimators= 100, nthread= 4, subsample=0.7, colsample_bytree=0.7, objective= \"binary:logistic\")"
      ],
      "metadata": {
        "id": "vFEfyce_NFdl"
      },
      "execution_count": 181,
      "outputs": []
    },
    {
      "cell_type": "markdown",
      "source": [
        "## Accuracy"
      ],
      "metadata": {
        "id": "TNCs8ocpNIeX"
      }
    },
    {
      "cell_type": "code",
      "source": [
        "results = cross_val_score(xgbFinalModel, xTrain, yTrain)\n",
        "print(\"Accuracy: %.2f%% (%.2f%%)\" % (results.mean()*100, results.std()*100))\n",
        "probabilities = xgbFinalModel.fit(xTrain, yTrain, eval_metric = 'auc').predict_proba(xTest)\n",
        "probabilities = pd.DataFrame(probabilities)\n",
        "probabilities_list = pd.DataFrame(np.where(probabilities[0] < probabilities[0], 0, 1))\n",
        "probabilities_list[0].astype('category')\n",
        "yTest['Transported'].astype('category')\n",
        "number = round(accuracy_score(list(yTest['Transported']), probabilities_list[0])*100, 2).astype(str) + '%'\n",
        "print('AUPRC = {}'.format(number))"
      ],
      "metadata": {
        "id": "1209uoWbk1iP"
      },
      "execution_count": null,
      "outputs": []
    },
    {
      "cell_type": "code",
      "source": [
        "yPred = np.array(xgbFinalModel.predict_proba(xTest))\n",
        "yTest['Transported'][0] = 1\n",
        "y_Test = yTest.astype(int).copy()\n",
        "\n",
        "plt.rcParams['figure.figsize'] = [10, 6]\n",
        "skplt.metrics.plot_roc(pd.DataFrame(y_Test['Transported']), pd.DataFrame(yPred*1.5))\n",
        "plt.annotate('Minimum ROC Score of 50% \\n (This is the minimum score to get)',xy=(0.5, 0.5),xytext=(0.6, 0.3), arrowprops = dict(shrink=0.05),)\n",
        "plt.show()"
      ],
      "metadata": {
        "colab": {
          "base_uri": "https://localhost:8080/",
          "height": 404
        },
        "id": "0MpwaDY3O8rl",
        "outputId": "ba418e0d-6a94-4114-b3fa-c7cedaf03130"
      },
      "execution_count": 183,
      "outputs": [
        {
          "output_type": "display_data",
          "data": {
            "text/plain": [
              "<Figure size 720x432 with 1 Axes>"
            ],
            "image/png": "[encoded data removed]"
          },
          "metadata": {
            "needs_background": "light"
          }
        }
      ]
    }
  ]
}